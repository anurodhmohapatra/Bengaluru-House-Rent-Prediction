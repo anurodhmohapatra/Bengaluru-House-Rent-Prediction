{
 "cells": [
  {
   "cell_type": "markdown",
   "metadata": {},
   "source": [
    "# Importing Modules"
   ]
  },
  {
   "cell_type": "code",
   "execution_count": 2,
   "metadata": {},
   "outputs": [],
   "source": [
    "import pandas as pd\n",
    "import numpy as np\n",
    "import matplotlib.pyplot as plt\n",
    "import seaborn as sns\n",
    "%matplotlib inline"
   ]
  },
  {
   "cell_type": "markdown",
   "metadata": {},
   "source": [
    "# Reading CSV File"
   ]
  },
  {
   "cell_type": "code",
   "execution_count": 5,
   "metadata": {},
   "outputs": [],
   "source": [
    "df1 = pd.read_csv('House_Data_Bangalore_for_EDA.csv')"
   ]
  },
  {
   "cell_type": "code",
   "execution_count": 6,
   "metadata": {},
   "outputs": [
    {
     "data": {
      "text/html": [
       "<div>\n",
       "<style scoped>\n",
       "    .dataframe tbody tr th:only-of-type {\n",
       "        vertical-align: middle;\n",
       "    }\n",
       "\n",
       "    .dataframe tbody tr th {\n",
       "        vertical-align: top;\n",
       "    }\n",
       "\n",
       "    .dataframe thead th {\n",
       "        text-align: right;\n",
       "    }\n",
       "</style>\n",
       "<table border=\"1\" class=\"dataframe\">\n",
       "  <thead>\n",
       "    <tr style=\"text-align: right;\">\n",
       "      <th></th>\n",
       "      <th>BHK</th>\n",
       "      <th>Address</th>\n",
       "      <th>Latitude</th>\n",
       "      <th>Longitude</th>\n",
       "      <th>Size(Acres)</th>\n",
       "      <th>Deposit(Rs)</th>\n",
       "      <th>Rent(Rs)</th>\n",
       "      <th>Furnishing</th>\n",
       "      <th>Property Age</th>\n",
       "      <th>Available For</th>\n",
       "      <th>Immediate Possesion</th>\n",
       "      <th>Link</th>\n",
       "    </tr>\n",
       "  </thead>\n",
       "  <tbody>\n",
       "    <tr>\n",
       "      <th>0</th>\n",
       "      <td>2</td>\n",
       "      <td>Kadubeesanahalli</td>\n",
       "      <td>12.934</td>\n",
       "      <td>77.702</td>\n",
       "      <td>1210</td>\n",
       "      <td>150000</td>\n",
       "      <td>21000</td>\n",
       "      <td>Semi Furnished</td>\n",
       "      <td>3-5 years</td>\n",
       "      <td>Family</td>\n",
       "      <td>Ready to Move</td>\n",
       "      <td>https://www.nobroker.in/property/2-bhk-apartme...</td>\n",
       "    </tr>\n",
       "    <tr>\n",
       "      <th>1</th>\n",
       "      <td>2</td>\n",
       "      <td>Sivanchetti Gardens</td>\n",
       "      <td>12.983</td>\n",
       "      <td>77.612</td>\n",
       "      <td>750</td>\n",
       "      <td>200000</td>\n",
       "      <td>22000</td>\n",
       "      <td>Semi Furnished</td>\n",
       "      <td>3-5 years</td>\n",
       "      <td>All</td>\n",
       "      <td>Ready to Move</td>\n",
       "      <td>https://www.nobroker.in/property/2-bhk-apartme...</td>\n",
       "    </tr>\n",
       "    <tr>\n",
       "      <th>2</th>\n",
       "      <td>1</td>\n",
       "      <td>Aecs Layout Singasandra</td>\n",
       "      <td>12.883</td>\n",
       "      <td>77.650</td>\n",
       "      <td>500</td>\n",
       "      <td>50000</td>\n",
       "      <td>10000</td>\n",
       "      <td>Semi Furnished</td>\n",
       "      <td>Newly Constructed</td>\n",
       "      <td>Family</td>\n",
       "      <td>Ready to Move</td>\n",
       "      <td>https://www.nobroker.in/property/1-bhk-apartme...</td>\n",
       "    </tr>\n",
       "    <tr>\n",
       "      <th>3</th>\n",
       "      <td>3</td>\n",
       "      <td>Bellandur</td>\n",
       "      <td>12.924</td>\n",
       "      <td>77.685</td>\n",
       "      <td>1879</td>\n",
       "      <td>250000</td>\n",
       "      <td>43000</td>\n",
       "      <td>Semi Furnished</td>\n",
       "      <td>5-10 years</td>\n",
       "      <td>All</td>\n",
       "      <td>Ready to Move</td>\n",
       "      <td>https://www.nobroker.in/property/3-bhk-apartme...</td>\n",
       "    </tr>\n",
       "    <tr>\n",
       "      <th>4</th>\n",
       "      <td>3</td>\n",
       "      <td>Rr Nagar</td>\n",
       "      <td>12.919</td>\n",
       "      <td>77.501</td>\n",
       "      <td>1620</td>\n",
       "      <td>100000</td>\n",
       "      <td>20000</td>\n",
       "      <td>Semi Furnished</td>\n",
       "      <td>3-5 years</td>\n",
       "      <td>Family</td>\n",
       "      <td>Ready to Move</td>\n",
       "      <td>https://www.nobroker.in/property/3-bhk-apartme...</td>\n",
       "    </tr>\n",
       "  </tbody>\n",
       "</table>\n",
       "</div>"
      ],
      "text/plain": [
       "   BHK                   Address  Latitude  Longitude  Size(Acres)  \\\n",
       "0    2          Kadubeesanahalli    12.934     77.702         1210   \n",
       "1    2       Sivanchetti Gardens    12.983     77.612          750   \n",
       "2    1   Aecs Layout Singasandra    12.883     77.650          500   \n",
       "3    3                 Bellandur    12.924     77.685         1879   \n",
       "4    3                  Rr Nagar    12.919     77.501         1620   \n",
       "\n",
       "   Deposit(Rs)  Rent(Rs)      Furnishing       Property Age Available For  \\\n",
       "0       150000     21000  Semi Furnished         3-5 years         Family   \n",
       "1       200000     22000  Semi Furnished         3-5 years            All   \n",
       "2        50000     10000  Semi Furnished  Newly Constructed        Family   \n",
       "3       250000     43000  Semi Furnished        5-10 years            All   \n",
       "4       100000     20000  Semi Furnished         3-5 years         Family   \n",
       "\n",
       "   Immediate Possesion                                               Link  \n",
       "0        Ready to Move  https://www.nobroker.in/property/2-bhk-apartme...  \n",
       "1        Ready to Move  https://www.nobroker.in/property/2-bhk-apartme...  \n",
       "2        Ready to Move  https://www.nobroker.in/property/1-bhk-apartme...  \n",
       "3        Ready to Move  https://www.nobroker.in/property/3-bhk-apartme...  \n",
       "4        Ready to Move  https://www.nobroker.in/property/3-bhk-apartme...  "
      ]
     },
     "execution_count": 6,
     "metadata": {},
     "output_type": "execute_result"
    }
   ],
   "source": [
    "df1.head()"
   ]
  },
  {
   "cell_type": "code",
   "execution_count": 7,
   "metadata": {},
   "outputs": [
    {
     "name": "stdout",
     "output_type": "stream",
     "text": [
      "<class 'pandas.core.frame.DataFrame'>\n",
      "RangeIndex: 9632 entries, 0 to 9631\n",
      "Data columns (total 12 columns):\n",
      " #   Column                Non-Null Count  Dtype  \n",
      "---  ------                --------------  -----  \n",
      " 0   BHK                   9632 non-null   int64  \n",
      " 1   Address               9632 non-null   object \n",
      " 2   Latitude              9632 non-null   float64\n",
      " 3   Longitude             9632 non-null   float64\n",
      " 4   Size(Acres)           9632 non-null   int64  \n",
      " 5   Deposit(Rs)           9632 non-null   int64  \n",
      " 6   Rent(Rs)              9632 non-null   int64  \n",
      " 7   Furnishing            9632 non-null   object \n",
      " 8   Property Age          9632 non-null   object \n",
      " 9   Available For         9632 non-null   object \n",
      " 10   Immediate Possesion  9632 non-null   object \n",
      " 11  Link                  9632 non-null   object \n",
      "dtypes: float64(2), int64(4), object(6)\n",
      "memory usage: 903.1+ KB\n"
     ]
    }
   ],
   "source": [
    "df1.info()"
   ]
  },
  {
   "cell_type": "code",
   "execution_count": null,
   "metadata": {},
   "outputs": [],
   "source": []
  }
 ],
 "metadata": {
  "kernelspec": {
   "display_name": "Python 3",
   "language": "python",
   "name": "python3"
  },
  "language_info": {
   "codemirror_mode": {
    "name": "ipython",
    "version": 3
   },
   "file_extension": ".py",
   "mimetype": "text/x-python",
   "name": "python",
   "nbconvert_exporter": "python",
   "pygments_lexer": "ipython3",
   "version": "3.8.3"
  }
 },
 "nbformat": 4,
 "nbformat_minor": 2
}
